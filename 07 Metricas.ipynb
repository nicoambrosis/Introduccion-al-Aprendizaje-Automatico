{
 "cells": [
  {
   "cell_type": "markdown",
   "metadata": {},
   "source": [
    "# 7. Métricas"
   ]
  },
  {
   "cell_type": "code",
   "execution_count": 1,
   "metadata": {},
   "outputs": [],
   "source": [
    "import numpy as np\n",
    "import matplotlib.pyplot as plt"
   ]
  },
  {
   "cell_type": "markdown",
   "metadata": {},
   "source": [
    "## Etiquetas de Ejemplo\n",
    "\n",
    "Clasificación binaria probabilística:<br>\n",
    "Supongamos que contamos con un pequenio dataset de 10 observacines. Contamos con las etiquetas de salida de esas observacines.<br>\n",
    "Por otro lado, como parte de un proyecto de **Machine Learning para CLASIFICACION** entrenamos un modelo y obtenemos los scores de salida predichos por la funcion de prediccion."
   ]
  },
  {
   "cell_type": "code",
   "execution_count": 2,
   "metadata": {},
   "outputs": [],
   "source": [
    "# etiquetas de salida (etiquetas verdaderas)\n",
    "y_true = np.array([1, 1, 0, 1, 1, 0, 0, 1, 0, 0])\n",
    "\n",
    "# scores de salida predichos por el modelo.\n",
    "# estos scores indican que probabilidad tienen la observacin correspondiente a pertenecer a una categoria determinada\n",
    "y_pred_proba = np.array([.99, .98, .72, .70, .65, .51, .39, .24, .11, .01])"
   ]
  },
  {
   "cell_type": "markdown",
   "metadata": {},
   "source": [
    "### (1) Clasificación binaria determinista: \n",
    "Vamos a comenzar poniendo un valor umbral de 0.5. La funcion de decision esta configurada de manera tal que los casos con score mayores a 0.5 los clasifica como 1 y los casos con score menores a 0.5 los clasifica como 0"
   ]
  },
  {
   "cell_type": "code",
   "execution_count": 3,
   "metadata": {},
   "outputs": [
    {
     "data": {
      "text/plain": [
       "array([1, 1, 1, 1, 1, 1, 0, 0, 0, 0])"
      ]
     },
     "execution_count": 3,
     "metadata": {},
     "output_type": "execute_result"
    }
   ],
   "source": [
    "treshold = 0.5\n",
    "\n",
    "y_pred = ((y_pred_proba >= treshold)     # devuelve un boolean\n",
    "         .astype(int))                   # al convertir los booleanos en int los True se transforman en 1, False en 0\n",
    "\n",
    "y_pred\n"
   ]
  },
  {
   "cell_type": "markdown",
   "metadata": {},
   "source": [
    "### (2) Clasificación multiclase determinista:\n",
    "Tambien podemos aplicar las metricas para evaluar el desempenio de un clasificador multiclase."
   ]
  },
  {
   "cell_type": "code",
   "execution_count": 4,
   "metadata": {},
   "outputs": [],
   "source": [
    "# inventamos un grupo de etiquetas verdaderas\n",
    "y_true2 = [\"cat\", \"ant\", \"cat\", \"cat\", \"ant\", \"bird\"]\n",
    "\n",
    "# inventamos un grupo de etiquetas de salida del clasificador (ya estaria aplicada la funcion de prediccion y \n",
    "# la funcion de decision)\n",
    "y_pred2 = [\"ant\", \"ant\", \"cat\", \"cat\", \"ant\", \"cat\"]"
   ]
  },
  {
   "cell_type": "markdown",
   "metadata": {},
   "source": [
    "## Precision, Recall y F1\n",
    "\n",
    "La precision es la proporción de positivos propuestos por el modelo que fueron correctos:\n",
    "\n",
    "$$Precision = \\frac{|Train \\cap Test|}{|Train|} = \\frac{TP}{TP + FP}$$\n",
    "\n",
    "La recall es la proporción de positivos correctos que fueron encontrados por el modelo:\n",
    "\n",
    "$$Recall = \\frac{|Train \\cap Test|}{|Test|} = \\frac{TP}{TP + FN}$$\n",
    "\n",
    "$$F_1 = \\frac{2 * Precision * Recall}{Precision + Recall}$$\n",
    "\n"
   ]
  },
  {
   "cell_type": "markdown",
   "metadata": {},
   "source": [
    "Podemos usar sklearn para calcularlas:"
   ]
  },
  {
   "cell_type": "markdown",
   "metadata": {},
   "source": [
    "### `precision_score`\n",
    "\n",
    "La precision es la proporción de positivos propuestos por el modelo que fueron correctos:\n",
    "\n",
    "$$Precision = \\frac{|Train \\cap Test|}{|Train|} = \\frac{TP}{TP + FP}$$"
   ]
  },
  {
   "cell_type": "code",
   "execution_count": 5,
   "metadata": {},
   "outputs": [
    {
     "data": {
      "text/plain": [
       "array([1, 1, 0, 1, 1, 0, 0, 1, 0, 0])"
      ]
     },
     "execution_count": 5,
     "metadata": {},
     "output_type": "execute_result"
    }
   ],
   "source": [
    "# volvemos al caso del modelo de clasificacion binario.\n",
    "y_true"
   ]
  },
  {
   "cell_type": "code",
   "execution_count": 6,
   "metadata": {},
   "outputs": [
    {
     "data": {
      "text/plain": [
       "array([1, 1, 1, 1, 1, 1, 0, 0, 0, 0])"
      ]
     },
     "execution_count": 6,
     "metadata": {},
     "output_type": "execute_result"
    }
   ],
   "source": [
    "threshold = 0.5\n",
    "y_pred = (y_pred_proba >= threshold).astype(int)\n",
    "y_pred"
   ]
  },
  {
   "cell_type": "code",
   "execution_count": 7,
   "metadata": {},
   "outputs": [
    {
     "name": "stdout",
     "output_type": "stream",
     "text": [
      "--------------- PRECISION RESULTS ----------------\n",
      "--------------------------------------------------\n",
      "Treshold: 0.25\n",
      "Precision: 0.5714285714285714\n",
      "--------------------------------------------------\n",
      "Treshold: 0.5\n",
      "Precision: 0.6666666666666666\n",
      "--------------------------------------------------\n",
      "Treshold: 0.8\n",
      "Precision: 1.0\n",
      "--------------------------------------------------\n"
     ]
    }
   ],
   "source": [
    "from sklearn.metrics import precision_score\n",
    "\n",
    "list_of_thresholds = [0.25, 0.5, 0.8] # vamos a evaluar 3 valores diferentes de threshold\n",
    "print(' PRECISION RESULTS '.center(50, '-'))\n",
    "print('-'*50)\n",
    "for threshold in list_of_thresholds:\n",
    "    y_pred = (y_pred_proba >= threshold).astype(int)\n",
    "    print(f'Treshold: {threshold}')\n",
    "    print(f'Precision: {precision_score(y_true, y_pred)}')\n",
    "    print('-'*50)"
   ]
  },
  {
   "cell_type": "markdown",
   "metadata": {},
   "source": [
    "Cuando mas estricta es nuestra funcion de decision, es decir cuanto mas alto es el valor del treshold, mayor es la precision del modelo. Recordemos que el valor del treshold se define en base al objetivo que tiene el modelo, no hay un numero CORRECTO o INCORRECTO. "
   ]
  },
  {
   "cell_type": "markdown",
   "metadata": {},
   "source": [
    "### `recall_score`\n",
    "La recall es la proporción de positivos correctos que fueron encontrados por el modelo:\n",
    "\n",
    "$$Recall = \\frac{|Train \\cap Test|}{|Test|} = \\frac{TP}{TP + FN}$$"
   ]
  },
  {
   "cell_type": "code",
   "execution_count": 8,
   "metadata": {},
   "outputs": [
    {
     "name": "stdout",
     "output_type": "stream",
     "text": [
      "----------------- RECALL RESULTS -----------------\n",
      "--------------------------------------------------\n",
      "Treshold: 0.25\n",
      "Precision: 0.8\n",
      "--------------------------------------------------\n",
      "Treshold: 0.5\n",
      "Precision: 0.8\n",
      "--------------------------------------------------\n",
      "Treshold: 0.8\n",
      "Precision: 0.4\n",
      "--------------------------------------------------\n"
     ]
    }
   ],
   "source": [
    "from sklearn.metrics import recall_score\n",
    "\n",
    "list_of_thresholds = [0.25, 0.5, 0.8] # vamos a evaluar 3 valores diferentes de threshold\n",
    "print(' RECALL RESULTS '.center(50, '-'))\n",
    "print('-'*50)\n",
    "for threshold in list_of_thresholds:\n",
    "    y_pred = (y_pred_proba >= threshold).astype(int)\n",
    "    print(f'Treshold: {threshold}')\n",
    "    print(f'Precision: {recall_score(y_true, y_pred)}')\n",
    "    print('-'*50)\n"
   ]
  },
  {
   "cell_type": "markdown",
   "metadata": {},
   "source": [
    "### `f1_score`\n",
    "$$F_1 = \\frac{2 * Precision * Recall}{Precision + Recall}$$\n"
   ]
  },
  {
   "cell_type": "code",
   "execution_count": 9,
   "metadata": {},
   "outputs": [
    {
     "name": "stdout",
     "output_type": "stream",
     "text": [
      "------------------- F1 RESULTS -------------------\n",
      "--------------------------------------------------\n",
      "Treshold: 0.25\n",
      "Precision: 0.6666666666666666\n",
      "--------------------------------------------------\n",
      "Treshold: 0.5\n",
      "Precision: 0.7272727272727272\n",
      "--------------------------------------------------\n",
      "Treshold: 0.8\n",
      "Precision: 0.5714285714285715\n",
      "--------------------------------------------------\n"
     ]
    }
   ],
   "source": [
    "from sklearn.metrics import f1_score\n",
    "list_of_thresholds = [0.25, 0.5, 0.8] # vamos a evaluar 3 valores diferentes de threshold\n",
    "print(' F1 RESULTS '.center(50, '-'))\n",
    "print('-'*50)\n",
    "for threshold in list_of_thresholds:\n",
    "    y_pred = (y_pred_proba >= threshold).astype(int)\n",
    "    print(f'Treshold: {threshold}')\n",
    "    print(f'Precision: {f1_score(y_true, y_pred)}')\n",
    "    print('-'*50)\n",
    "\n",
    "\n",
    "\n",
    "\n"
   ]
  },
  {
   "cell_type": "markdown",
   "metadata": {},
   "source": [
    "Para poder una metrica que combine la Precision y el Recall usamos la funcion F1"
   ]
  },
  {
   "cell_type": "markdown",
   "metadata": {},
   "source": [
    "---\n",
    "Para clasificación multiclase, se puede calcular una métrica por clase. Luego, las métricas se pueden promediar para obtener resultados \"macro\".\n",
    "Para obtener resultados \"micro\", se hacen primero cálculos globales para TP, FP, TN, FN y luego se calcula como un problema binario.\n",
    "\n",
    "---"
   ]
  },
  {
   "cell_type": "markdown",
   "metadata": {},
   "source": [
    "## `classification_report()`\n",
    "\n",
    "- [classification_report](https://scikit-learn.org/stable/modules/generated/sklearn.metrics.classification_report.html)"
   ]
  },
  {
   "cell_type": "markdown",
   "metadata": {},
   "source": [
    "En clasificación binaria:"
   ]
  },
  {
   "cell_type": "code",
   "execution_count": 15,
   "metadata": {},
   "outputs": [
    {
     "data": {
      "text/plain": [
       "([1, 1, 0, 1, 1, 0, 0, 1, 0, 0], [1, 1, 1, 1, 1, 1, 0, 0, 0, 0])"
      ]
     },
     "execution_count": 15,
     "metadata": {},
     "output_type": "execute_result"
    }
   ],
   "source": [
    "# supongamos que tenemos nuevamente un grupo de # etiquetas de salida (etiquetas verdaderas) y\n",
    "# otro grupo de etiquetas predichas por el modelo de ML que estamos utilizando\n",
    "y_true = [1, 1, 0, 1, 1, 0, 0, 1, 0, 0]\n",
    "y_pred = [1, 1, 1, 1, 1, 1, 0, 0, 0, 0]\n",
    "\n",
    "y_true, y_pred"
   ]
  },
  {
   "cell_type": "code",
   "execution_count": 16,
   "metadata": {},
   "outputs": [
    {
     "name": "stdout",
     "output_type": "stream",
     "text": [
      "              precision    recall  f1-score   support\n",
      "\n",
      "           0       0.75      0.60      0.67         5\n",
      "           1       0.67      0.80      0.73         5\n",
      "\n",
      "    accuracy                           0.70        10\n",
      "   macro avg       0.71      0.70      0.70        10\n",
      "weighted avg       0.71      0.70      0.70        10\n",
      "\n"
     ]
    }
   ],
   "source": [
    "from sklearn.metrics import classification_report\n",
    "\n",
    "report = classification_report(y_true, y_pred)\n",
    "print(report)"
   ]
  },
  {
   "cell_type": "code",
   "execution_count": 17,
   "metadata": {},
   "outputs": [
    {
     "data": {
      "text/plain": [
       "(['cat', 'ant', 'cat', 'cat', 'ant', 'bird'],\n",
       " ['ant', 'ant', 'cat', 'cat', 'ant', 'cat'])"
      ]
     },
     "execution_count": 17,
     "metadata": {},
     "output_type": "execute_result"
    }
   ],
   "source": [
    "# y si tuviesemos una clasificacion multiclase\n",
    "y_true2, y_pred2"
   ]
  },
  {
   "cell_type": "code",
   "execution_count": 18,
   "metadata": {},
   "outputs": [
    {
     "name": "stdout",
     "output_type": "stream",
     "text": [
      "              precision    recall  f1-score   support\n",
      "\n",
      "         ant       0.67      1.00      0.80         2\n",
      "        bird       0.00      0.00      0.00         1\n",
      "         cat       0.67      0.67      0.67         3\n",
      "\n",
      "    accuracy                           0.67         6\n",
      "   macro avg       0.44      0.56      0.49         6\n",
      "weighted avg       0.56      0.67      0.60         6\n",
      "\n"
     ]
    },
    {
     "name": "stderr",
     "output_type": "stream",
     "text": [
      "C:\\Users\\nico.-\\AppData\\Roaming\\Python\\Python38\\site-packages\\sklearn\\metrics\\_classification.py:1327: UndefinedMetricWarning: Precision and F-score are ill-defined and being set to 0.0 in labels with no predicted samples. Use `zero_division` parameter to control this behavior.\n",
      "  _warn_prf(average, modifier, msg_start, len(result))\n",
      "C:\\Users\\nico.-\\AppData\\Roaming\\Python\\Python38\\site-packages\\sklearn\\metrics\\_classification.py:1327: UndefinedMetricWarning: Precision and F-score are ill-defined and being set to 0.0 in labels with no predicted samples. Use `zero_division` parameter to control this behavior.\n",
      "  _warn_prf(average, modifier, msg_start, len(result))\n",
      "C:\\Users\\nico.-\\AppData\\Roaming\\Python\\Python38\\site-packages\\sklearn\\metrics\\_classification.py:1327: UndefinedMetricWarning: Precision and F-score are ill-defined and being set to 0.0 in labels with no predicted samples. Use `zero_division` parameter to control this behavior.\n",
      "  _warn_prf(average, modifier, msg_start, len(result))\n"
     ]
    }
   ],
   "source": [
    "print(classification_report(y_true2, y_pred2))"
   ]
  },
  {
   "cell_type": "markdown",
   "metadata": {},
   "source": [
    "## `confusion_matrix()`\n",
    "\n",
    "Usamos [confusion_matrix](https://scikit-learn.org/stable/modules/generated/sklearn.metrics.confusion_matrix.html):\n"
   ]
  },
  {
   "cell_type": "code",
   "execution_count": 19,
   "metadata": {},
   "outputs": [],
   "source": [
    "from sklearn.metrics import confusion_matrix"
   ]
  },
  {
   "cell_type": "code",
   "execution_count": 20,
   "metadata": {},
   "outputs": [
    {
     "data": {
      "text/plain": [
       "([1, 1, 0, 1, 1, 0, 0, 1, 0, 0], [1, 1, 1, 1, 1, 1, 0, 0, 0, 0])"
      ]
     },
     "execution_count": 20,
     "metadata": {},
     "output_type": "execute_result"
    }
   ],
   "source": [
    "y_true, y_pred"
   ]
  },
  {
   "cell_type": "code",
   "execution_count": 22,
   "metadata": {},
   "outputs": [
    {
     "data": {
      "text/plain": [
       "array([[3, 2],\n",
       "       [1, 4]])"
      ]
     },
     "execution_count": 22,
     "metadata": {},
     "output_type": "execute_result"
    }
   ],
   "source": [
    "confusion_matrix(y_true, y_pred)"
   ]
  },
  {
   "cell_type": "code",
   "execution_count": 21,
   "metadata": {},
   "outputs": [],
   "source": [
    "tn, fp, fn, tp = confusion_matrix(y_true, y_pred).ravel()"
   ]
  },
  {
   "cell_type": "markdown",
   "metadata": {},
   "source": [
    "En multiclase:"
   ]
  },
  {
   "cell_type": "code",
   "execution_count": 22,
   "metadata": {},
   "outputs": [
    {
     "data": {
      "text/plain": [
       "array([[2, 0, 0],\n",
       "       [0, 0, 1],\n",
       "       [1, 0, 2]], dtype=int64)"
      ]
     },
     "execution_count": 22,
     "metadata": {},
     "output_type": "execute_result"
    }
   ],
   "source": [
    "cm = confusion_matrix(y_true2, y_pred2, labels=['ant', 'bird', 'cat'])\n",
    "cm"
   ]
  },
  {
   "cell_type": "markdown",
   "metadata": {},
   "source": [
    "Podemos usar [plot_confusion_matrix](https://scikit-learn.org/stable/auto_examples/model_selection/plot_confusion_matrix.html) pero requiere el clasificador. Definimos nuestra propia versión:"
   ]
  },
  {
   "cell_type": "code",
   "execution_count": 23,
   "metadata": {},
   "outputs": [
    {
     "data": {
      "image/png": "[encoded data removed]",
      "text/plain": [
       "<Figure size 432x288 with 2 Axes>"
      ]
     },
     "metadata": {
      "needs_background": "light"
     },
     "output_type": "display_data"
    }
   ],
   "source": [
    "from utils import plot_confusion_matrix\n",
    "\n",
    "plot_confusion_matrix(cm, ['ant', 'bird', 'cat'])"
   ]
  },
  {
   "cell_type": "markdown",
   "metadata": {},
   "source": [
    "## `roc_curve()`\n",
    "\n",
    "Usamos [roc_curve](https://scikit-learn.org/stable/modules/generated/sklearn.metrics.roc_curve.html) para obtener los puntos y graficamos:"
   ]
  },
  {
   "cell_type": "code",
   "execution_count": 31,
   "metadata": {},
   "outputs": [],
   "source": [
    "from sklearn.metrics import roc_curve\n",
    "false_positive_rate, true_positive_rate, threshold = roc_curve(y_true, y_pred_proba, drop_intermediate=True)"
   ]
  },
  {
   "cell_type": "code",
   "execution_count": 32,
   "metadata": {},
   "outputs": [
    {
     "data": {
      "text/plain": [
       "(array([0. , 0. , 0. , 0.2, 0.2, 0.6, 0.6, 1. ]),\n",
       " array([0. , 0.2, 0.4, 0.4, 0.8, 0.8, 1. , 1. ]),\n",
       " array([1.99, 0.99, 0.98, 0.72, 0.65, 0.39, 0.24, 0.01]))"
      ]
     },
     "execution_count": 32,
     "metadata": {},
     "output_type": "execute_result"
    }
   ],
   "source": [
    "false_positive_rate, true_positive_rate, threshold"
   ]
  },
  {
   "cell_type": "code",
   "execution_count": 40,
   "metadata": {},
   "outputs": [
    {
     "data": {
      "image/png": "[encoded data removed]",
      "text/plain": [
       "<Figure size 432x288 with 1 Axes>"
      ]
     },
     "metadata": {
      "needs_background": "light"
     },
     "output_type": "display_data"
    }
   ],
   "source": [
    "plt.plot(1.0 - false_positive_rate, true_positive_rate, color=\"red\", alpha = 0.65)\n",
    "plt.scatter(1.0 - false_positive_rate, true_positive_rate, color=\"red\", edgecolors='black')\n",
    "#plt.xlabel(\"false positive rate\")\n",
    "\n",
    "plt.axhline(y = 0.5, color = 'black', alpha = 0.25)\n",
    "plt.axvline(x = 0.5, color = 'black', alpha = 0.25)\n",
    "\n",
    "plt.xlabel(\"true negative rate\")\n",
    "plt.ylabel(\"true positive rate\")\n",
    "plt.show()"
   ]
  },
  {
   "cell_type": "code",
   "execution_count": 41,
   "metadata": {},
   "outputs": [
    {
     "data": {
      "text/plain": [
       "(0.8, 0.2, 0.65)"
      ]
     },
     "execution_count": 41,
     "metadata": {},
     "output_type": "execute_result"
    }
   ],
   "source": [
    "tpr[4], fpr[4], threshold[4]"
   ]
  },
  {
   "cell_type": "markdown",
   "metadata": {},
   "source": [
    "## `roc_auc_score()`\n",
    "Calculamos el área bajo la curva con [roc_auc_score](https://scikit-learn.org/stable/modules/generated/sklearn.metrics.roc_auc_score.html):<br>\n",
    "Recordemos que cuanto mayor sea el area, mejor sera nuestro modelos de clasificacion."
   ]
  },
  {
   "cell_type": "code",
   "execution_count": 42,
   "metadata": {},
   "outputs": [
    {
     "data": {
      "text/plain": [
       "0.8"
      ]
     },
     "execution_count": 42,
     "metadata": {},
     "output_type": "execute_result"
    }
   ],
   "source": [
    "from sklearn.metrics import roc_auc_score\n",
    "\n",
    "roc_auc_score(y_true, y_pred_proba)"
   ]
  },
  {
   "cell_type": "markdown",
   "metadata": {},
   "source": [
    "## `precision_recall_curve()`\n",
    "Usamos [precision_recall_curve](https://scikit-learn.org/stable/modules/generated/sklearn.metrics.precision_recall_curve.html) para obtener los puntos y graficamos:"
   ]
  },
  {
   "cell_type": "code",
   "execution_count": 43,
   "metadata": {},
   "outputs": [],
   "source": [
    "from sklearn.metrics import precision_recall_curve\n",
    "precision, recall, threshold = precision_recall_curve(y_true, y_pred_proba)"
   ]
  },
  {
   "cell_type": "code",
   "execution_count": 44,
   "metadata": {},
   "outputs": [
    {
     "data": {
      "text/plain": [
       "(array([0.5       , 0.55555556, 0.625     , 0.57142857, 0.66666667,\n",
       "        0.8       , 0.75      , 0.66666667, 1.        , 1.        ,\n",
       "        1.        ]),\n",
       " array([1. , 1. , 1. , 0.8, 0.8, 0.8, 0.6, 0.4, 0.4, 0.2, 0. ]),\n",
       " array([0.01, 0.11, 0.24, 0.39, 0.51, 0.65, 0.7 , 0.72, 0.98, 0.99]))"
      ]
     },
     "execution_count": 44,
     "metadata": {},
     "output_type": "execute_result"
    }
   ],
   "source": [
    "precision, recall, threshold"
   ]
  },
  {
   "cell_type": "code",
   "execution_count": 48,
   "metadata": {},
   "outputs": [
    {
     "data": {
      "image/png": "[encoded data removed]",
      "text/plain": [
       "<Figure size 432x288 with 1 Axes>"
      ]
     },
     "metadata": {
      "needs_background": "light"
     },
     "output_type": "display_data"
    }
   ],
   "source": [
    "plt.xlim(0, 1)\n",
    "plt.ylim(0, 1.1)\n",
    "plt.plot(recall, precision, color=\"red\", alpha = 0.65)\n",
    "plt.scatter(recall, precision, color=\"red\")\n",
    "\n",
    "plt.axhline(y = 0.5, color = 'black', alpha = 0.25)\n",
    "plt.axvline(x = 0.5, color = 'black', alpha = 0.25)\n",
    "\n",
    "plt.xlabel(\"recall\")\n",
    "plt.ylabel(\"precision\")\n",
    "plt.title('PR Curve')\n",
    "plt.show()"
   ]
  },
  {
   "cell_type": "markdown",
   "metadata": {},
   "source": [
    "Analizando la curva PR vemos que el mejor punto es (0.8, 0.8) que corresponde a un threshold de 0.51"
   ]
  },
  {
   "cell_type": "code",
   "execution_count": null,
   "metadata": {},
   "outputs": [],
   "source": []
  }
 ],
 "metadata": {
  "kernelspec": {
   "display_name": "Python 3",
   "language": "python",
   "name": "python3"
  },
  "language_info": {
   "codemirror_mode": {
    "name": "ipython",
    "version": 3
   },
   "file_extension": ".py",
   "mimetype": "text/x-python",
   "name": "python",
   "nbconvert_exporter": "python",
   "pygments_lexer": "ipython3",
   "version": "3.8.6"
  }
 },
 "nbformat": 4,
 "nbformat_minor": 4
}
