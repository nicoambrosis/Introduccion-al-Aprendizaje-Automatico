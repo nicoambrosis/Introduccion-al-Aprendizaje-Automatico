{
 "cells": [
  {
   "cell_type": "markdown",
   "metadata": {},
   "source": [
    "# 6. Selección de Modelos"
   ]
  },
  {
   "cell_type": "code",
   "execution_count": 2,
   "metadata": {},
   "outputs": [],
   "source": [
    "import numpy as np\n",
    "import pandas as pd\n",
    "import matplotlib.pyplot as plt"
   ]
  },
  {
   "cell_type": "markdown",
   "metadata": {},
   "source": [
    "## Dataset\n",
    "**nota:** con el objetivo de comprender el uso de las clases `KFold`, `StratifiedKFold`, `DecisionTreeClassifier`, `ParameterGrid`, `GridSearchCV` y `plot_tree` vamos a armar un pequenio dataset de juguete.<br>\n",
    "<br>\n",
    "En la segunda parte de esta notebook vamos a utilizar estas mismas clases para analizar otro caso de juguete, pero un poco mas complicado. El caso de los datos no linealmente separables del tipo \"XOR\" que vimos en la notebook [05 Arboles de Decision.ipynb](https://github.com/nicoambrosis/Introduccion-al-Aprendizaje-Automatico/blob/main/05%20Arboles%20de%20Decision.ipynb). <br>\n",
    "<br>\n",
    "Definimos datos de juguete:"
   ]
  },
  {
   "cell_type": "code",
   "execution_count": null,
   "metadata": {},
   "outputs": [],
   "source": [
    "# definimos un conjunto de datos X. Para eso usamos la funcion array() de Numpy\n",
    "# a la funcion array() tiene que ser alimentada con una lista. \n",
    "# dentro de esa lista hay sub elementos que tb son listas. Cada una de esas listas es un vector o una fila de matrix\n",
    "# la matriz final final tendra tantas vectores o filas como sublistas le pasemos a la funcion np.array()\n",
    "# La matriz final tendra tantas columnas como elemenos tenga cada una de las sublistas\n",
    "X = np.array([[2, 2,4], [3, 4, 1], [1, 2, 4], [3, 4, 2], [3, 2, 2], [3, 1, 2], [1, 4, 2], [1, 1, 3]])\n",
    "X.shape, X"
   ]
  },
  {
   "cell_type": "markdown",
   "metadata": {},
   "source": [
    "Creamos un dataset almacenado bajo la variable X. Es del tipo array de Numpy (matriz) y consta de 8 observaciones (filas o vectores) y 3 variables para observacion (columnas)"
   ]
  },
  {
   "cell_type": "markdown",
   "metadata": {},
   "source": [
    "Definimos las etiquetas, es de decir las variables de salida conocidas para cada una de las observaciones que creamos mas arriba."
   ]
  },
  {
   "cell_type": "code",
   "execution_count": null,
   "metadata": {},
   "outputs": [],
   "source": [
    "y = np.array((\"a\",\"a\",\"a\",\"a\",\"a\",\"b\",\"b\",\"b\"))\n",
    "y.shape, y"
   ]
  },
  {
   "cell_type": "markdown",
   "metadata": {},
   "source": [
    "Si bien no es un paso necesario, la visulizacion de los datos como una DF de pandas siempre ayuda a tener una vision mas general de los datos que tenemos"
   ]
  },
  {
   "cell_type": "code",
   "execution_count": null,
   "metadata": {},
   "outputs": [],
   "source": [
    "df = pd.DataFrame({'Var_1':X[:,0], 'Var_2':X[:,1],'Var_3':X[:,2], 'Labels':y})\n",
    "\n",
    "print('DataSet de jugete')\n",
    "display(df)"
   ]
  },
  {
   "cell_type": "markdown",
   "metadata": {},
   "source": [
    "## Validación Cruzada\n",
    "\n",
    "- [Cross-validation: evaluating estimator performance](https://scikit-learn.org/stable/modules/cross_validation.html)"
   ]
  },
  {
   "cell_type": "markdown",
   "metadata": {},
   "source": [
    "### K-Fold\n",
    "\n",
    "Podemos usar [K-Fold](https://scikit-learn.org/stable/modules/generated/sklearn.model_selection.KFold.html) para hacer cross-validation:\n",
    "\n",
    "Provides train/test indices to split data in train/test sets. Split dataset into k consecutive folds (without shuffling by default).\n",
    "\n",
    "Each fold is then used once as a validation while the k - 1 remaining folds form the training set."
   ]
  },
  {
   "cell_type": "code",
   "execution_count": null,
   "metadata": {},
   "outputs": [],
   "source": [
    "from sklearn.model_selection import KFold\n",
    "\n",
    "\n",
    "kf = KFold(n_splits=4, # Number of folds.\n",
    "          shuffle = True, # Whether to shuffle the data before splitting into batches.\n",
    "          random_state = 0 # Pass an int for reproducible output across multiple function calls\n",
    "          )\n",
    "for train_index, val_index in kf.split(X):\n",
    "    X_train, X_val = X[train_index], X[val_index]\n",
    "    y_train, y_val = y[train_index], y[val_index]\n",
    "    print(f'TRAIN: {train_index} {y_train}\\tVAL: {val_index} {y_val}')"
   ]
  },
  {
   "cell_type": "markdown",
   "metadata": {},
   "source": [
    "Notar que la clase `Kfol` no hace una division ponderando la cantidad de observaciones de cada una de las clases.<br>\n",
    "Para hacer una division de ese estilo tendriamos que usar la clase `StratifiedKFold`"
   ]
  },
  {
   "cell_type": "markdown",
   "metadata": {},
   "source": [
    "### División K-Fold Estratificada\n",
    "\n",
    "Para que la división sea estratificada, es decir que los grupos de entrenamiento mantengan la misma proporcion de etiquetas que los datos originales, usamos `StratifiedKFold`"
   ]
  },
  {
   "cell_type": "code",
   "execution_count": null,
   "metadata": {},
   "outputs": [],
   "source": [
    "from sklearn.model_selection import StratifiedKFold\n",
    "\n",
    "kf = StratifiedKFold(n_splits = 3,\n",
    "                    shuffle = True,\n",
    "                    random_state = 2\n",
    "                    )\n",
    "for train_index, val_index in kf.split(X, y):\n",
    "    X_train, X_val = X[train_index], X[val_index]\n",
    "    y_train, y_val = y[train_index], y[val_index]\n",
    "    print(f'TRAIN: {train_index}{y_train} \\t VAL: {val_index}{y_val}')\n",
    "    "
   ]
  },
  {
   "cell_type": "markdown",
   "metadata": {},
   "source": [
    "Los bloques anteriores fueron hechos con fines demostrativos para entender como funciona la estrategia de validacion cruzada y validacion cruzada estratificada. Para el entrenamiento del modelo no vamos a utilizar las clases `KFold` ni `StratifiedKFold`. En cambio vamos a utilizar la clase `GridSearchCV` que nos va a permitir hacer validacion cruzada ademas de otras cosas."
   ]
  },
  {
   "cell_type": "markdown",
   "metadata": {},
   "source": [
    "## GridSearchCV\n",
    "\n",
    "- [Tuning the hyper-parameters of an estimator](https://scikit-learn.org/stable/modules/grid_search.html). <br>\n",
    "Hyper-parameters are parameters that are not directly learnt within estimators. In scikit-learn they are passed as arguments to the constructor of the estimator classes.<br>\n",
    "Two generic approaches to parameter search are provided in scikit-learn: for given values, `GridSearchCV` exhaustively considers all parameter combinations, while `RandomizedSearchCV` can sample a given number of candidates from a parameter space with a specified distribution"
   ]
  },
  {
   "cell_type": "markdown",
   "metadata": {},
   "source": [
    "### Grilla de Parámetros"
   ]
  },
  {
   "cell_type": "code",
   "execution_count": null,
   "metadata": {
    "jupyter": {
     "outputs_hidden": true
    },
    "tags": []
   },
   "outputs": [],
   "source": [
    "from sklearn.tree import DecisionTreeClassifier"
   ]
  },
  {
   "cell_type": "markdown",
   "metadata": {},
   "source": [
    "En principio vamos a evaluar 2 de los hiperparametros que podemos ajustar en un modelo del tipo `DecisionTreeClassifier`\n",
    "vamos a evaluar el `citerion` que setea la funcion que mide la calidad de las divisiones del arbol\n",
    "y tambien vamos a evaluar `max_depth` que setea la profundidad maxima del arbol.\n",
    "\n",
    "Tenemos que armar un diccionario en el que cada key es uno de los parametros que queremos evaluar.\n",
    "El nombre de la key tiene que coincidir exactamente con el nombre que el parametro tiene en la clase que define el modelo\n",
    "que vamos a evaluar. Los values tienen que ser listas que contengan las diferentes posibilidaddes de los parametros\n",
    "que queremos evaluar.\n"
   ]
  },
  {
   "cell_type": "markdown",
   "metadata": {},
   "source": [
    "Podemos listar todas las combinaciones para usarlas a mano con [ParameterGrid](https://scikit-learn.org/stable/modules/generated/sklearn.model_selection.ParameterGrid.html):"
   ]
  },
  {
   "cell_type": "code",
   "execution_count": null,
   "metadata": {},
   "outputs": [],
   "source": [
    "from sklearn.model_selection import ParameterGrid\n",
    "\n",
    "param_grid = {\n",
    "    'criterion': ['gini', 'entropy'],\n",
    "    'max_depth': [1, 2],\n",
    "}\n",
    "\n",
    "for params in ParameterGrid(param_grid):\n",
    "    print(params)"
   ]
  },
  {
   "cell_type": "markdown",
   "metadata": {},
   "source": [
    "Estas son todaslas conbinaciones posibles que existen de los parametros que seteamos con el diccionario `param_grid`"
   ]
  },
  {
   "cell_type": "markdown",
   "metadata": {},
   "source": [
    "### Grilla de Parámetros + Validación Cruzada\n",
    "\n",
    "`GridSearchCV` nos sirve para hacer validación cruzada sobre una grilla de parámetros. Sklearn se encarga de todo el proceso y nos devuelve una tabla de resultados y el mejor clasificador obtenido.\n",
    "\n",
    "La clase `GridSearchCV` toma como argumentos: el modelo que queremos entrenar, un diccionario con los hiperparametros que queremos evaluar (en nuestro caso es param_grid), un parametro para evaluar los diferentes modelos y el numero de subgrupos en que va a dividir los datos de entrenamiento para hacer cross validation.\n",
    "\n",
    "**Paso a paso que va a hacer la funcion `GridSearchCV`:**<br>\n",
    "\n",
    "(1) Divide el grupo de entrenamiento en tantos subgrupos como hayamos indicado en el parametro `cv`.<br>\n",
    "(2) Utiliza la primera configuracion de hiperparametros y entrena un modelo usando un subgrupo de datos de entrenamiento.<br>\n",
    "(3) Evalua el modelo (usando la estrategia definida en el parametro `scoring`) y guarda el valor.<br>\n",
    "(4) Repite los pasos (2) y (3) con todos los subgrupos. En cada iteracion guarda el `scoring`.<br>\n",
    "(5) Reporta el `mean_test_score` y `std_test_score` de esta ronda en la que se evaluo UNA combinacion de hiperparametros.<br>\n",
    "(6) Cambia los hiperparametros.<br>\n",
    "(7) Entrena el nuevo modelo con el primer subgrupo de los datos de entrenamiento (igual al paso 2).<br>\n",
    "(8) Repite los pasos 3,4,5.<br>\n",
    "(9) Cambia los hiperparametros y repite el proceso.<br>\n",
    "(10) Repite todo el ciclo hasta que agota todas las posibles combinaciones de hiperparametros.<br>\n",
    "\n",
    "\n",
    "La búsqueda se puede configurar de varias maneras. Por defecto la validación cruzada es estratificada.\n",
    "\n",
    "- [scoring parameter](https://scikit-learn.org/stable/modules/model_evaluation.html#scoring-parameter9)"
   ]
  },
  {
   "cell_type": "code",
   "execution_count": null,
   "metadata": {},
   "outputs": [],
   "source": [
    "from sklearn.model_selection import GridSearchCV\n",
    "\n",
    "# 1.1 Definimo el modelo de ML con el que vamos a trabajar (A DIFERENCIA DE LOS HACIAMOS ANTES AHORA NO DEFINIMOS PARAMS)\n",
    "model = DecisionTreeClassifier(random_state=0)\n",
    "\n",
    "# 1.2. Se define una variable en la que setean los parametros que alimentan a GridSearchCV\n",
    "cv = GridSearchCV(model,\n",
    "                  param_grid,\n",
    "                  scoring = 'accuracy',\n",
    "                  cv = 3\n",
    "                 )\n",
    "\n",
    "# 2. Entrenamos el modelo\n",
    "cv.fit(X,y)"
   ]
  },
  {
   "cell_type": "code",
   "execution_count": null,
   "metadata": {},
   "outputs": [],
   "source": [
    "# Analizamos los resultados 4 modelos finales (notar que teniendo en cuenta el proceso de cross validation se entrenaron\n",
    "# 12 modelos en total pero se reporta el promedio y dsviacion estandar de cada combinacion de hiperparametros)\n",
    "\n",
    "results = cv.cv_results_ # devuelve un diccionario donde cada key es paramtro de los resultados del entrenamiento\n",
    "                        # de los modelos\n",
    "for i in results.keys():\n",
    "    print(i)\n",
    "    \n",
    "params = results['params']\n",
    "mean = results['mean_test_score']\n",
    "std = results['std_test_score']\n",
    "rank = results['rank_test_score']"
   ]
  },
  {
   "cell_type": "code",
   "execution_count": null,
   "metadata": {},
   "outputs": [],
   "source": [
    "# imprimimos los resultados en forma ordenada\n",
    "print(\"crit.\\tdepth\\t| mean\\tstd\\trank\")\n",
    "\n",
    "for p, m, s, r in zip(params, mean, std, rank):\n",
    "    print(f\"{p['criterion']}\\t{p['max_depth']}\\t| {m:0.2f}\\t{s:0.2f}\\t{r}\")"
   ]
  },
  {
   "cell_type": "code",
   "execution_count": null,
   "metadata": {},
   "outputs": [],
   "source": [
    "# podemos visualizarlo como un DF\n",
    "df = pd.DataFrame(results)\n",
    "df.columns\n",
    "\n",
    "\n",
    "#df = pd.DataFrame(results)\n",
    "#df[['param_criterion', 'param_max_depth', 'mean_test_score', 'std_test_score', 'rank_test_score']]\n",
    "#df"
   ]
  },
  {
   "cell_type": "code",
   "execution_count": null,
   "metadata": {},
   "outputs": [],
   "source": [
    "# elegimos las columnas mas significativas para nuestro analisis\n",
    "df[['param_criterion', 'param_max_depth', 'mean_test_score', 'std_test_score', 'rank_test_score']]"
   ]
  },
  {
   "cell_type": "markdown",
   "metadata": {},
   "source": [
    "Notar que independiente de que funcion usemos para medir la incertidumbre del modelo, los mejores modelos son los que tienen una profundidad de 2"
   ]
  },
  {
   "cell_type": "code",
   "execution_count": null,
   "metadata": {},
   "outputs": [],
   "source": [
    "# pdemos imprimir cual fue el mejor modelo\n",
    "best_model = cv.best_estimator_\n",
    "best_model"
   ]
  },
  {
   "cell_type": "code",
   "execution_count": null,
   "metadata": {},
   "outputs": [],
   "source": [
    "cv.best_params_"
   ]
  },
  {
   "cell_type": "code",
   "execution_count": null,
   "metadata": {},
   "outputs": [],
   "source": [
    "# graficamos el modelo\n",
    "from sklearn.tree import plot_tree\n",
    "plt.figure(figsize=(15,5))\n",
    "plot_tree(decision_tree = best_model, filled=True)\n",
    "\n",
    "plt.title('DecisionTreeClassifier\\n', fontsize = 20, fontweight = 'bold')\n",
    "plt.show()"
   ]
  },
  {
   "cell_type": "markdown",
   "metadata": {},
   "source": [
    "Podemos inspeccionar las clases:"
   ]
  },
  {
   "cell_type": "code",
   "execution_count": null,
   "metadata": {},
   "outputs": [],
   "source": [
    "best_model.classes_"
   ]
  },
  {
   "cell_type": "markdown",
   "metadata": {},
   "source": [
    "Podemos realizar una predicción con el mejor modelo encontrado:"
   ]
  },
  {
   "cell_type": "code",
   "execution_count": null,
   "metadata": {},
   "outputs": [],
   "source": [
    "# podemos usar el modelo para predecir la clasificaion de cualquiere observacion que se ajuste a las condicinoes\n",
    "# de las variables que tenian nustros datos originalmente.\n",
    "best_model.predict([[1,1,2]])"
   ]
  },
  {
   "cell_type": "markdown",
   "metadata": {},
   "source": [
    "## Otro dataset sintetico\n",
    "En este caso vamos a aplicar los conceptos anteriores pero a un dataset de mayor tamano.<br>\n",
    "Vamos a crear un dataset  de 200 observaciones y 2 features y 2 categorias. <br>\n",
    "Es el mismo dataset que creamos en la notebook [05 Arboles de Decision.ipynb](https://github.com/nicoambrosis/Introduccion-al-Aprendizaje-Automatico/blob/main/05%20Arboles%20de%20Decision.ipynb) y para el que desarrollamos un algoritmo del tipo `DecisionTreeClassifier`.<br>"
   ]
  },
  {
   "cell_type": "code",
   "execution_count": 21,
   "metadata": {},
   "outputs": [
    {
     "data": {
      "image/png": "[encoded data removed]",
      "text/plain": [
       "<Figure size 432x288 with 1 Axes>"
      ]
     },
     "metadata": {
      "needs_background": "light"
     },
     "output_type": "display_data"
    }
   ],
   "source": [
    "sample_size = 200\n",
    "features = 2\n",
    "np.random.seed(0)\n",
    "\n",
    "# creamos un dataset sintetico\n",
    "X = np.random.randn(sample_size, features)\n",
    "\n",
    "# creamos las etiquetas para los datos anteriores\n",
    "y_true = np.logical_xor(X[:,0] > 0, X[:,1] >0)\n",
    "\n",
    "y_true = y_true.astype(int) # convierte los datos booleanos en 0 o 1\n",
    "y_true[y_true == 0] = -1 # convierte las celdas que tienen valor 0 en valor -1.\n",
    "\n",
    "plt.scatter(X[y_true == 1,0],X[y_true == 1,1], color = 'cornflowerblue', edgecolors='k', label = '1')\n",
    "plt.scatter(X[y_true == -1,0], X[y_true == -1,1], color = 'firebrick', edgecolors = 'k', label = '-1')\n",
    "plt.title(\"Datos no linealmente separables del tipo 'XOR'\\n\")\n",
    "plt.grid(alpha = 0.25)\n",
    "\n",
    "plt.legend()\n",
    "plt.show()"
   ]
  },
  {
   "cell_type": "markdown",
   "metadata": {},
   "source": [
    "Al igual que hicimos en la notebook anterior, vamos a usar un modelo de Arboles de decision para predecir la clasificacion de estos datos."
   ]
  },
  {
   "cell_type": "code",
   "execution_count": 9,
   "metadata": {},
   "outputs": [
    {
     "name": "stdout",
     "output_type": "stream",
     "text": [
      "{'criterion': 'gini', 'max_depth': 1}\n",
      "{'criterion': 'gini', 'max_depth': 2}\n",
      "{'criterion': 'gini', 'max_depth': 3}\n",
      "{'criterion': 'entropy', 'max_depth': 1}\n",
      "{'criterion': 'entropy', 'max_depth': 2}\n",
      "{'criterion': 'entropy', 'max_depth': 3}\n"
     ]
    }
   ],
   "source": [
    "# definimos la grilla de hiperparametros que vamos a querer evaluar para entrenar un modelo DecisionTreeClassifier\n",
    "\n",
    "from sklearn.model_selection import ParameterGrid\n",
    "\n",
    "param_grid = {'criterion' : ['gini', 'entropy'],\n",
    "             'max_depth' : [1,2,3]\n",
    "             }\n",
    "\n",
    "for parameters in ParameterGrid(param_grid):\n",
    "    print(parameters)"
   ]
  },
  {
   "cell_type": "code",
   "execution_count": 11,
   "metadata": {},
   "outputs": [
    {
     "data": {
      "text/html": [
       "<style>#sk-container-id-1 {color: black;background-color: white;}#sk-container-id-1 pre{padding: 0;}#sk-container-id-1 div.sk-toggleable {background-color: white;}#sk-container-id-1 label.sk-toggleable__label {cursor: pointer;display: block;width: 100%;margin-bottom: 0;padding: 0.3em;box-sizing: border-box;text-align: center;}#sk-container-id-1 label.sk-toggleable__label-arrow:before {content: \"▸\";float: left;margin-right: 0.25em;color: #696969;}#sk-container-id-1 label.sk-toggleable__label-arrow:hover:before {color: black;}#sk-container-id-1 div.sk-estimator:hover label.sk-toggleable__label-arrow:before {color: black;}#sk-container-id-1 div.sk-toggleable__content {max-height: 0;max-width: 0;overflow: hidden;text-align: left;background-color: #f0f8ff;}#sk-container-id-1 div.sk-toggleable__content pre {margin: 0.2em;color: black;border-radius: 0.25em;background-color: #f0f8ff;}#sk-container-id-1 input.sk-toggleable__control:checked~div.sk-toggleable__content {max-height: 200px;max-width: 100%;overflow: auto;}#sk-container-id-1 input.sk-toggleable__control:checked~label.sk-toggleable__label-arrow:before {content: \"▾\";}#sk-container-id-1 div.sk-estimator input.sk-toggleable__control:checked~label.sk-toggleable__label {background-color: #d4ebff;}#sk-container-id-1 div.sk-label input.sk-toggleable__control:checked~label.sk-toggleable__label {background-color: #d4ebff;}#sk-container-id-1 input.sk-hidden--visually {border: 0;clip: rect(1px 1px 1px 1px);clip: rect(1px, 1px, 1px, 1px);height: 1px;margin: -1px;overflow: hidden;padding: 0;position: absolute;width: 1px;}#sk-container-id-1 div.sk-estimator {font-family: monospace;background-color: #f0f8ff;border: 1px dotted black;border-radius: 0.25em;box-sizing: border-box;margin-bottom: 0.5em;}#sk-container-id-1 div.sk-estimator:hover {background-color: #d4ebff;}#sk-container-id-1 div.sk-parallel-item::after {content: \"\";width: 100%;border-bottom: 1px solid gray;flex-grow: 1;}#sk-container-id-1 div.sk-label:hover label.sk-toggleable__label {background-color: #d4ebff;}#sk-container-id-1 div.sk-serial::before {content: \"\";position: absolute;border-left: 1px solid gray;box-sizing: border-box;top: 0;bottom: 0;left: 50%;z-index: 0;}#sk-container-id-1 div.sk-serial {display: flex;flex-direction: column;align-items: center;background-color: white;padding-right: 0.2em;padding-left: 0.2em;position: relative;}#sk-container-id-1 div.sk-item {position: relative;z-index: 1;}#sk-container-id-1 div.sk-parallel {display: flex;align-items: stretch;justify-content: center;background-color: white;position: relative;}#sk-container-id-1 div.sk-item::before, #sk-container-id-1 div.sk-parallel-item::before {content: \"\";position: absolute;border-left: 1px solid gray;box-sizing: border-box;top: 0;bottom: 0;left: 50%;z-index: -1;}#sk-container-id-1 div.sk-parallel-item {display: flex;flex-direction: column;z-index: 1;position: relative;background-color: white;}#sk-container-id-1 div.sk-parallel-item:first-child::after {align-self: flex-end;width: 50%;}#sk-container-id-1 div.sk-parallel-item:last-child::after {align-self: flex-start;width: 50%;}#sk-container-id-1 div.sk-parallel-item:only-child::after {width: 0;}#sk-container-id-1 div.sk-dashed-wrapped {border: 1px dashed gray;margin: 0 0.4em 0.5em 0.4em;box-sizing: border-box;padding-bottom: 0.4em;background-color: white;}#sk-container-id-1 div.sk-label label {font-family: monospace;font-weight: bold;display: inline-block;line-height: 1.2em;}#sk-container-id-1 div.sk-label-container {text-align: center;}#sk-container-id-1 div.sk-container {/* jupyter's `normalize.less` sets `[hidden] { display: none; }` but bootstrap.min.css set `[hidden] { display: none !important; }` so we also need the `!important` here to be able to override the default hidden behavior on the sphinx rendered scikit-learn.org. See: https://github.com/scikit-learn/scikit-learn/issues/21755 */display: inline-block !important;position: relative;}#sk-container-id-1 div.sk-text-repr-fallback {display: none;}</style><div id=\"sk-container-id-1\" class=\"sk-top-container\"><div class=\"sk-text-repr-fallback\"><pre>GridSearchCV(cv=3, estimator=DecisionTreeClassifier(random_state=0),\n",
       "             param_grid={&#x27;criterion&#x27;: [&#x27;gini&#x27;, &#x27;entropy&#x27;],\n",
       "                         &#x27;max_depth&#x27;: [1, 2, 3]},\n",
       "             scoring=&#x27;accuracy&#x27;)</pre><b>In a Jupyter environment, please rerun this cell to show the HTML representation or trust the notebook. <br />On GitHub, the HTML representation is unable to render, please try loading this page with nbviewer.org.</b></div><div class=\"sk-container\" hidden><div class=\"sk-item sk-dashed-wrapped\"><div class=\"sk-label-container\"><div class=\"sk-label sk-toggleable\"><input class=\"sk-toggleable__control sk-hidden--visually\" id=\"sk-estimator-id-1\" type=\"checkbox\" ><label for=\"sk-estimator-id-1\" class=\"sk-toggleable__label sk-toggleable__label-arrow\">GridSearchCV</label><div class=\"sk-toggleable__content\"><pre>GridSearchCV(cv=3, estimator=DecisionTreeClassifier(random_state=0),\n",
       "             param_grid={&#x27;criterion&#x27;: [&#x27;gini&#x27;, &#x27;entropy&#x27;],\n",
       "                         &#x27;max_depth&#x27;: [1, 2, 3]},\n",
       "             scoring=&#x27;accuracy&#x27;)</pre></div></div></div><div class=\"sk-parallel\"><div class=\"sk-parallel-item\"><div class=\"sk-item\"><div class=\"sk-label-container\"><div class=\"sk-label sk-toggleable\"><input class=\"sk-toggleable__control sk-hidden--visually\" id=\"sk-estimator-id-2\" type=\"checkbox\" ><label for=\"sk-estimator-id-2\" class=\"sk-toggleable__label sk-toggleable__label-arrow\">estimator: DecisionTreeClassifier</label><div class=\"sk-toggleable__content\"><pre>DecisionTreeClassifier(random_state=0)</pre></div></div></div><div class=\"sk-serial\"><div class=\"sk-item\"><div class=\"sk-estimator sk-toggleable\"><input class=\"sk-toggleable__control sk-hidden--visually\" id=\"sk-estimator-id-3\" type=\"checkbox\" ><label for=\"sk-estimator-id-3\" class=\"sk-toggleable__label sk-toggleable__label-arrow\">DecisionTreeClassifier</label><div class=\"sk-toggleable__content\"><pre>DecisionTreeClassifier(random_state=0)</pre></div></div></div></div></div></div></div></div></div></div>"
      ],
      "text/plain": [
       "GridSearchCV(cv=3, estimator=DecisionTreeClassifier(random_state=0),\n",
       "             param_grid={'criterion': ['gini', 'entropy'],\n",
       "                         'max_depth': [1, 2, 3]},\n",
       "             scoring='accuracy')"
      ]
     },
     "execution_count": 11,
     "metadata": {},
     "output_type": "execute_result"
    }
   ],
   "source": [
    "# Entrenemos los 6 modelos posible utilizando la clase GridSearchCV\n",
    "from sklearn.model_selection import GridSearchCV\n",
    "from sklearn.tree import DecisionTreeClassifier\n",
    "\n",
    "#1.1 Definimo el modelo de ML con el que vamos a trabajar (A DIFERENCIA DE LOS HACIAMOS ANTES AHORA NO DEFINIMOS PARAMS)\n",
    "model = DecisionTreeClassifier(random_state = 0)\n",
    "\n",
    "# 1.2 Se define una variable en la que se setean los parametros que alimentan a GridSearchCV\n",
    "cv = GridSearchCV(model,\n",
    "                 param_grid,\n",
    "                 scoring = 'accuracy',\n",
    "                 cv = 3\n",
    "                 )\n",
    "\n",
    "# 2. Entrenamos los modelos\n",
    "cv.fit(X, y_true)"
   ]
  },
  {
   "cell_type": "markdown",
   "metadata": {},
   "source": [
    "Notar que se obtienen 6 modelos entrenados cada uno con una configuracion particular de hiperparametros. Asu vez cada configuracion de hiperparametros fue evaluada mediante cross-validation estratificada 3 veces.<br>\n"
   ]
  },
  {
   "cell_type": "code",
   "execution_count": 13,
   "metadata": {},
   "outputs": [
    {
     "name": "stdout",
     "output_type": "stream",
     "text": [
      "crit.\tdepth\t| mean\tstd\trank\n",
      "gini\t1\t| 0.51\t0.02\t5\n",
      "gini\t2\t| 0.66\t0.16\t3\n",
      "gini\t3\t| 0.91\t0.09\t1\n",
      "entropy\t1\t| 0.51\t0.02\t5\n",
      "entropy\t2\t| 0.66\t0.16\t3\n",
      "entropy\t3\t| 0.91\t0.09\t1\n"
     ]
    }
   ],
   "source": [
    "# analizamos los resultados obtenidos\n",
    "results = cv.cv_results_\n",
    "\n",
    "params = results['params']\n",
    "mean = results['mean_test_score']\n",
    "std = results['std_test_score']\n",
    "rank = results['rank_test_score']\n",
    "\n",
    "# imprimimos los resultados en forma ordenada\n",
    "print(\"crit.\\tdepth\\t| mean\\tstd\\trank\")\n",
    "\n",
    "for p, m, s, r in zip(params, mean, std, rank):\n",
    "    print(f\"{p['criterion']}\\t{p['max_depth']}\\t| {m:0.2f}\\t{s:0.2f}\\t{r}\")"
   ]
  },
  {
   "cell_type": "markdown",
   "metadata": {},
   "source": [
    "Nuevamente vemos que no hay diferencia entre usar Gini o Entropia como criterio de incertidumbre. La mayor diferencia esta en la profundidad del arbol. Tal como habiamos visto en la notebook anterior, necesitamos una profundidad de 3 para poder obtener un modelo con un accuracy aceptable. "
   ]
  },
  {
   "cell_type": "code",
   "execution_count": 14,
   "metadata": {},
   "outputs": [
    {
     "data": {
      "text/html": [
       "<style>#sk-container-id-2 {color: black;background-color: white;}#sk-container-id-2 pre{padding: 0;}#sk-container-id-2 div.sk-toggleable {background-color: white;}#sk-container-id-2 label.sk-toggleable__label {cursor: pointer;display: block;width: 100%;margin-bottom: 0;padding: 0.3em;box-sizing: border-box;text-align: center;}#sk-container-id-2 label.sk-toggleable__label-arrow:before {content: \"▸\";float: left;margin-right: 0.25em;color: #696969;}#sk-container-id-2 label.sk-toggleable__label-arrow:hover:before {color: black;}#sk-container-id-2 div.sk-estimator:hover label.sk-toggleable__label-arrow:before {color: black;}#sk-container-id-2 div.sk-toggleable__content {max-height: 0;max-width: 0;overflow: hidden;text-align: left;background-color: #f0f8ff;}#sk-container-id-2 div.sk-toggleable__content pre {margin: 0.2em;color: black;border-radius: 0.25em;background-color: #f0f8ff;}#sk-container-id-2 input.sk-toggleable__control:checked~div.sk-toggleable__content {max-height: 200px;max-width: 100%;overflow: auto;}#sk-container-id-2 input.sk-toggleable__control:checked~label.sk-toggleable__label-arrow:before {content: \"▾\";}#sk-container-id-2 div.sk-estimator input.sk-toggleable__control:checked~label.sk-toggleable__label {background-color: #d4ebff;}#sk-container-id-2 div.sk-label input.sk-toggleable__control:checked~label.sk-toggleable__label {background-color: #d4ebff;}#sk-container-id-2 input.sk-hidden--visually {border: 0;clip: rect(1px 1px 1px 1px);clip: rect(1px, 1px, 1px, 1px);height: 1px;margin: -1px;overflow: hidden;padding: 0;position: absolute;width: 1px;}#sk-container-id-2 div.sk-estimator {font-family: monospace;background-color: #f0f8ff;border: 1px dotted black;border-radius: 0.25em;box-sizing: border-box;margin-bottom: 0.5em;}#sk-container-id-2 div.sk-estimator:hover {background-color: #d4ebff;}#sk-container-id-2 div.sk-parallel-item::after {content: \"\";width: 100%;border-bottom: 1px solid gray;flex-grow: 1;}#sk-container-id-2 div.sk-label:hover label.sk-toggleable__label {background-color: #d4ebff;}#sk-container-id-2 div.sk-serial::before {content: \"\";position: absolute;border-left: 1px solid gray;box-sizing: border-box;top: 0;bottom: 0;left: 50%;z-index: 0;}#sk-container-id-2 div.sk-serial {display: flex;flex-direction: column;align-items: center;background-color: white;padding-right: 0.2em;padding-left: 0.2em;position: relative;}#sk-container-id-2 div.sk-item {position: relative;z-index: 1;}#sk-container-id-2 div.sk-parallel {display: flex;align-items: stretch;justify-content: center;background-color: white;position: relative;}#sk-container-id-2 div.sk-item::before, #sk-container-id-2 div.sk-parallel-item::before {content: \"\";position: absolute;border-left: 1px solid gray;box-sizing: border-box;top: 0;bottom: 0;left: 50%;z-index: -1;}#sk-container-id-2 div.sk-parallel-item {display: flex;flex-direction: column;z-index: 1;position: relative;background-color: white;}#sk-container-id-2 div.sk-parallel-item:first-child::after {align-self: flex-end;width: 50%;}#sk-container-id-2 div.sk-parallel-item:last-child::after {align-self: flex-start;width: 50%;}#sk-container-id-2 div.sk-parallel-item:only-child::after {width: 0;}#sk-container-id-2 div.sk-dashed-wrapped {border: 1px dashed gray;margin: 0 0.4em 0.5em 0.4em;box-sizing: border-box;padding-bottom: 0.4em;background-color: white;}#sk-container-id-2 div.sk-label label {font-family: monospace;font-weight: bold;display: inline-block;line-height: 1.2em;}#sk-container-id-2 div.sk-label-container {text-align: center;}#sk-container-id-2 div.sk-container {/* jupyter's `normalize.less` sets `[hidden] { display: none; }` but bootstrap.min.css set `[hidden] { display: none !important; }` so we also need the `!important` here to be able to override the default hidden behavior on the sphinx rendered scikit-learn.org. See: https://github.com/scikit-learn/scikit-learn/issues/21755 */display: inline-block !important;position: relative;}#sk-container-id-2 div.sk-text-repr-fallback {display: none;}</style><div id=\"sk-container-id-2\" class=\"sk-top-container\"><div class=\"sk-text-repr-fallback\"><pre>DecisionTreeClassifier(max_depth=3, random_state=0)</pre><b>In a Jupyter environment, please rerun this cell to show the HTML representation or trust the notebook. <br />On GitHub, the HTML representation is unable to render, please try loading this page with nbviewer.org.</b></div><div class=\"sk-container\" hidden><div class=\"sk-item\"><div class=\"sk-estimator sk-toggleable\"><input class=\"sk-toggleable__control sk-hidden--visually\" id=\"sk-estimator-id-4\" type=\"checkbox\" checked><label for=\"sk-estimator-id-4\" class=\"sk-toggleable__label sk-toggleable__label-arrow\">DecisionTreeClassifier</label><div class=\"sk-toggleable__content\"><pre>DecisionTreeClassifier(max_depth=3, random_state=0)</pre></div></div></div></div></div>"
      ],
      "text/plain": [
       "DecisionTreeClassifier(max_depth=3, random_state=0)"
      ]
     },
     "execution_count": 14,
     "metadata": {},
     "output_type": "execute_result"
    }
   ],
   "source": [
    "# pdemos imprimir cual fue el mejor modelo\n",
    "best_model = cv.best_estimator_\n",
    "best_model"
   ]
  },
  {
   "cell_type": "code",
   "execution_count": 15,
   "metadata": {},
   "outputs": [
    {
     "data": {
      "text/plain": [
       "{'criterion': 'gini', 'max_depth': 3}"
      ]
     },
     "execution_count": 15,
     "metadata": {},
     "output_type": "execute_result"
    }
   ],
   "source": [
    "cv.best_params_"
   ]
  },
  {
   "cell_type": "code",
   "execution_count": 18,
   "metadata": {},
   "outputs": [
    {
     "data": {
      "image/png": "[encoded data removed]",
      "text/plain": [
       "<Figure size 1080x432 with 1 Axes>"
      ]
     },
     "metadata": {
      "needs_background": "light"
     },
     "output_type": "display_data"
    }
   ],
   "source": [
    "# graficamos el modelo\n",
    "from sklearn.tree import plot_tree\n",
    "plt.figure(figsize=(15,6))\n",
    "plot_tree(decision_tree = best_model, filled=True)\n",
    "\n",
    "plt.title('DecisionTreeClassifier\\n', fontsize = 20, fontweight = 'bold')\n",
    "plt.show()"
   ]
  },
  {
   "cell_type": "code",
   "execution_count": 19,
   "metadata": {},
   "outputs": [
    {
     "data": {
      "image/png": "[encoded data removed]",
      "text/plain": [
       "<Figure size 432x288 with 1 Axes>"
      ]
     },
     "metadata": {
      "needs_background": "light"
     },
     "output_type": "display_data"
    }
   ],
   "source": [
    "from utils import plot_decision_boundary\n",
    "\n",
    "plt.figure()\n",
    "plt.title('Datos no linealmente separables del tipo \"XOR\"\\nMachine Learning: DecisionTreeClassifier')\n",
    "plot_decision_boundary(lambda x: cv.predict(x), X, y_true)"
   ]
  },
  {
   "cell_type": "code",
   "execution_count": null,
   "metadata": {},
   "outputs": [],
   "source": []
  },
  {
   "cell_type": "code",
   "execution_count": null,
   "metadata": {},
   "outputs": [],
   "source": []
  },
  {
   "cell_type": "code",
   "execution_count": null,
   "metadata": {},
   "outputs": [],
   "source": []
  },
  {
   "cell_type": "code",
   "execution_count": null,
   "metadata": {},
   "outputs": [],
   "source": []
  },
  {
   "cell_type": "code",
   "execution_count": null,
   "metadata": {},
   "outputs": [],
   "source": []
  },
  {
   "cell_type": "markdown",
   "metadata": {},
   "source": [
    "### Búsqueda Aleatoria\n",
    "\n",
    "- [Randomized Parameter Optimization](https://scikit-learn.org/stable/modules/grid_search.html#randomized-parameter-optimization)"
   ]
  },
  {
   "cell_type": "code",
   "execution_count": null,
   "metadata": {
    "jupyter": {
     "outputs_hidden": true
    },
    "tags": []
   },
   "outputs": [],
   "source": [
    "from sklearn.linear_model import SGDClassifier\n",
    "SGDClassifier??"
   ]
  },
  {
   "cell_type": "code",
   "execution_count": null,
   "metadata": {},
   "outputs": [],
   "source": [
    "model = SGDClassifier(random_state=0)"
   ]
  },
  {
   "cell_type": "code",
   "execution_count": null,
   "metadata": {},
   "outputs": [],
   "source": [
    "from sklearn.utils.fixes import loguniform\n",
    "from scipy import stats\n",
    "\n",
    "param_dist = {\n",
    "    'loss': [\n",
    "        'hinge',        # SVM\n",
    "        'log',          # logistic regression\n",
    "        #'preceptron',  # perceptron (not supported)\n",
    "    ],\n",
    "    'alpha': loguniform(1e-4, 1e2),  # de 0.0001 a 100.0\n",
    "}"
   ]
  },
  {
   "cell_type": "markdown",
   "metadata": {},
   "source": [
    "Al parámetro alpha lo va a obtener desde muestras de una función de probabilidad tipo loguniform:"
   ]
  },
  {
   "cell_type": "code",
   "execution_count": null,
   "metadata": {},
   "outputs": [],
   "source": [
    "from scipy.stats import loguniform\n",
    "\n",
    "import matplotlib.pyplot as plt\n",
    "a= 1e-4\n",
    "b=100\n",
    "fig, ax = plt.subplots(1, 1)\n",
    "x = np.linspace(a, b, 100000)\n",
    "plt.xlim(-1, 5)\n",
    "plt.ylim(-0.50,4)\n",
    "ax.plot(x, loguniform.pdf(x, a, b), 'r-', lw=2, alpha=0.6, label='loguniform pdf')"
   ]
  },
  {
   "cell_type": "markdown",
   "metadata": {},
   "source": [
    "Podemos muestrear mano con [ParameterSampler](https://scikit-learn.org/stable/modules/generated/sklearn.model_selection.ParameterSampler.html):"
   ]
  },
  {
   "cell_type": "code",
   "execution_count": null,
   "metadata": {},
   "outputs": [],
   "source": [
    "from sklearn.model_selection import ParameterSampler\n",
    "\n",
    "for params in ParameterSampler(param_dist, 10, random_state=0):\n",
    "    print(params)\n",
    "    model = SGDClassifier(**params, random_state=0)\n",
    "    #model.fit(...)\n",
    "    #model.predict(...)"
   ]
  },
  {
   "cell_type": "markdown",
   "metadata": {},
   "source": [
    "### Búsqueda Aleatoria + Validación Cruzada"
   ]
  },
  {
   "cell_type": "markdown",
   "metadata": {},
   "source": [
    "También podemos dejar que Sklearn se encargue de todo con [RandomizedSearchCV](https://scikit-learn.org/stable/modules/generated/sklearn.model_selection.RandomizedSearchCV.html):\n"
   ]
  },
  {
   "cell_type": "code",
   "execution_count": null,
   "metadata": {},
   "outputs": [],
   "source": [
    "from sklearn.model_selection import RandomizedSearchCV\n",
    "\n",
    "model = SGDClassifier(random_state=0)\n",
    "\n",
    "cv = RandomizedSearchCV(model, param_dist, n_iter=10, cv=3, random_state=0)\n",
    "cv.fit(X, y);"
   ]
  },
  {
   "cell_type": "code",
   "execution_count": null,
   "metadata": {},
   "outputs": [],
   "source": [
    "import pandas as pd\n",
    "results = cv.cv_results_\n",
    "df = pd.DataFrame(results)\n",
    "df[['param_loss', 'param_alpha', 'mean_test_score', 'std_test_score', 'rank_test_score']]"
   ]
  },
  {
   "cell_type": "code",
   "execution_count": null,
   "metadata": {},
   "outputs": [],
   "source": [
    "cv.best_estimator_"
   ]
  },
  {
   "cell_type": "code",
   "execution_count": null,
   "metadata": {},
   "outputs": [],
   "source": [
    "cv.best_params_"
   ]
  },
  {
   "cell_type": "markdown",
   "metadata": {},
   "source": [
    "## Referencias\n",
    "\n",
    "\n",
    "Scikit-learn:\n",
    "\n",
    "- [Tuning the hyper-parameters of an estimator](https://scikit-learn.org/stable/modules/grid_search.html#grid-search)"
   ]
  }
 ],
 "metadata": {
  "kernelspec": {
   "display_name": "Python 3",
   "language": "python",
   "name": "python3"
  },
  "language_info": {
   "codemirror_mode": {
    "name": "ipython",
    "version": 3
   },
   "file_extension": ".py",
   "mimetype": "text/x-python",
   "name": "python",
   "nbconvert_exporter": "python",
   "pygments_lexer": "ipython3",
   "version": "3.8.6"
  }
 },
 "nbformat": 4,
 "nbformat_minor": 4
}
